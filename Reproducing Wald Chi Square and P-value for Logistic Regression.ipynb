{
 "cells": [
  {
   "cell_type": "markdown",
   "metadata": {},
   "source": [
    "T is simply the calculated difference represented in units of standard error. The greater the magnitude of T, the greater the evidence against the null hypothesis, which is that the feature that you are testing should have a coefficient of zero (which doesn't matter to the regression exercise). \n",
    "\n",
    "The smaller the T, the more likely there isn't a significant difference.\n",
    "\n",
    "Pr>|t| is the probability that a particular T test statistic is as extreme as, or more so, than what has been observed under the null hypothesis is defined by Pr>|t|.\n",
    "\n",
    "references: \n",
    "- SAS explanation: https://stats.idre.ucla.edu/sas/output/proc-logistic/\n",
    "- t-test and p-value explanation: http://blog.minitab.com/blog/statistics-and-quality-data-analysis/what-are-t-values-and-p-values-in-statistics\n",
    "- statsmodel t_test: https://www.statsmodels.org/dev/generated/statsmodels.regression.linear_model.RegressionResults.t_test.html"
   ]
  },
  {
   "cell_type": "code",
   "execution_count": 7,
   "metadata": {},
   "outputs": [],
   "source": [
    "import numpy as np\n",
    "import pandas as pd\n",
    "\n",
    "#need to pip install patsy and statsmodels\n",
    "import statsmodels.api as sm\n",
    "from statsmodels.formula.api import ols"
   ]
  },
  {
   "cell_type": "code",
   "execution_count": 72,
   "metadata": {},
   "outputs": [],
   "source": [
    "dta = sm.datasets.longley.load_pandas().data\n",
    "y = dta['TOTEMP'].copy()\n",
    "X = dta[['GNPDEFL', 'GNP', 'UNEMP', 'ARMED', 'POP', 'YEAR']].copy()\n",
    "X['const'] = 1"
   ]
  },
  {
   "cell_type": "code",
   "execution_count": 73,
   "metadata": {},
   "outputs": [],
   "source": [
    "LR_details = pd.DataFrame(columns = ['feature', 'coef', 'std err', 't', ' Pr > |t|'])\n",
    "results = sm.OLS(y, X).fit()\n",
    "for i, col in enumerate(X.columns):\n",
    "    r = np.zeros(len(X.columns))\n",
    "    r[i] = 1\n",
    "    t_test = results.t_test(r)\n",
    "    LR_details.loc[i] = [col, float(t_test.effect), float(t_test.sd), float(t_test.tvalue), float(t_test.pvalue)]"
   ]
  },
  {
   "cell_type": "code",
   "execution_count": 74,
   "metadata": {},
   "outputs": [
    {
     "data": {
      "text/html": [
       "<div>\n",
       "<table border=\"1\" class=\"dataframe\">\n",
       "  <thead>\n",
       "    <tr style=\"text-align: right;\">\n",
       "      <th></th>\n",
       "      <th>feature</th>\n",
       "      <th>coef</th>\n",
       "      <th>std err</th>\n",
       "      <th>t</th>\n",
       "      <th>P &gt; |t|</th>\n",
       "    </tr>\n",
       "  </thead>\n",
       "  <tbody>\n",
       "    <tr>\n",
       "      <th>0</th>\n",
       "      <td>GNPDEFL</td>\n",
       "      <td>1.506187e+01</td>\n",
       "      <td>84.914926</td>\n",
       "      <td>0.177376</td>\n",
       "      <td>0.863141</td>\n",
       "    </tr>\n",
       "    <tr>\n",
       "      <th>1</th>\n",
       "      <td>GNP</td>\n",
       "      <td>-3.581918e-02</td>\n",
       "      <td>0.033491</td>\n",
       "      <td>-1.069516</td>\n",
       "      <td>0.312681</td>\n",
       "    </tr>\n",
       "    <tr>\n",
       "      <th>2</th>\n",
       "      <td>UNEMP</td>\n",
       "      <td>-2.020230e+00</td>\n",
       "      <td>0.488400</td>\n",
       "      <td>-4.136427</td>\n",
       "      <td>0.002535</td>\n",
       "    </tr>\n",
       "    <tr>\n",
       "      <th>3</th>\n",
       "      <td>ARMED</td>\n",
       "      <td>-1.033227e+00</td>\n",
       "      <td>0.214274</td>\n",
       "      <td>-4.821985</td>\n",
       "      <td>0.000944</td>\n",
       "    </tr>\n",
       "    <tr>\n",
       "      <th>4</th>\n",
       "      <td>POP</td>\n",
       "      <td>-5.110411e-02</td>\n",
       "      <td>0.226073</td>\n",
       "      <td>-0.226051</td>\n",
       "      <td>0.826212</td>\n",
       "    </tr>\n",
       "    <tr>\n",
       "      <th>5</th>\n",
       "      <td>YEAR</td>\n",
       "      <td>1.829151e+03</td>\n",
       "      <td>455.478499</td>\n",
       "      <td>4.015890</td>\n",
       "      <td>0.003037</td>\n",
       "    </tr>\n",
       "    <tr>\n",
       "      <th>6</th>\n",
       "      <td>const</td>\n",
       "      <td>-3.482259e+06</td>\n",
       "      <td>890420.383607</td>\n",
       "      <td>-3.910803</td>\n",
       "      <td>0.003560</td>\n",
       "    </tr>\n",
       "  </tbody>\n",
       "</table>\n",
       "</div>"
      ],
      "text/plain": [
       "   feature          coef        std err         t   P > |t|\n",
       "0  GNPDEFL  1.506187e+01      84.914926  0.177376  0.863141\n",
       "1      GNP -3.581918e-02       0.033491 -1.069516  0.312681\n",
       "2    UNEMP -2.020230e+00       0.488400 -4.136427  0.002535\n",
       "3    ARMED -1.033227e+00       0.214274 -4.821985  0.000944\n",
       "4      POP -5.110411e-02       0.226073 -0.226051  0.826212\n",
       "5     YEAR  1.829151e+03     455.478499  4.015890  0.003037\n",
       "6    const -3.482259e+06  890420.383607 -3.910803  0.003560"
      ]
     },
     "execution_count": 74,
     "metadata": {},
     "output_type": "execute_result"
    }
   ],
   "source": [
    "LR_details"
   ]
  },
  {
   "cell_type": "code",
   "execution_count": 75,
   "metadata": {},
   "outputs": [],
   "source": [
    "#let's take a variable out and calculate the stats"
   ]
  },
  {
   "cell_type": "code",
   "execution_count": 76,
   "metadata": {},
   "outputs": [],
   "source": [
    "y = dta['TOTEMP'].copy()\n",
    "X = dta[['GNP', 'UNEMP', 'ARMED', 'POP', 'YEAR']].copy()\n",
    "X['const'] = 1"
   ]
  },
  {
   "cell_type": "code",
   "execution_count": 77,
   "metadata": {},
   "outputs": [],
   "source": [
    "LR_details = pd.DataFrame(columns = ['feature', 'coef', 'std err', 't', ' P > |t|'])\n",
    "results = sm.OLS(y, X).fit()\n",
    "for i, col in enumerate(X.columns):\n",
    "    r = np.zeros(len(X.columns))\n",
    "    r[i] = 1\n",
    "    t_test = results.t_test(r)\n",
    "    LR_details.loc[i] = [col, float(t_test.effect), float(t_test.sd), float(t_test.tvalue), float(t_test.pvalue)]"
   ]
  },
  {
   "cell_type": "code",
   "execution_count": 78,
   "metadata": {},
   "outputs": [
    {
     "data": {
      "text/html": [
       "<div>\n",
       "<table border=\"1\" class=\"dataframe\">\n",
       "  <thead>\n",
       "    <tr style=\"text-align: right;\">\n",
       "      <th></th>\n",
       "      <th>feature</th>\n",
       "      <th>coef</th>\n",
       "      <th>std err</th>\n",
       "      <th>t</th>\n",
       "      <th>P &gt; |t|</th>\n",
       "    </tr>\n",
       "  </thead>\n",
       "  <tbody>\n",
       "    <tr>\n",
       "      <th>0</th>\n",
       "      <td>GNP</td>\n",
       "      <td>-3.196131e-02</td>\n",
       "      <td>0.024203</td>\n",
       "      <td>-1.320558</td>\n",
       "      <td>0.216073</td>\n",
       "    </tr>\n",
       "    <tr>\n",
       "      <th>1</th>\n",
       "      <td>UNEMP</td>\n",
       "      <td>-1.972150e+00</td>\n",
       "      <td>0.386100</td>\n",
       "      <td>-5.107875</td>\n",
       "      <td>0.000459</td>\n",
       "    </tr>\n",
       "    <tr>\n",
       "      <th>2</th>\n",
       "      <td>ARMED</td>\n",
       "      <td>-1.019969e+00</td>\n",
       "      <td>0.190843</td>\n",
       "      <td>-5.344534</td>\n",
       "      <td>0.000326</td>\n",
       "    </tr>\n",
       "    <tr>\n",
       "      <th>3</th>\n",
       "      <td>POP</td>\n",
       "      <td>-7.753714e-02</td>\n",
       "      <td>0.161562</td>\n",
       "      <td>-0.479923</td>\n",
       "      <td>0.641607</td>\n",
       "    </tr>\n",
       "    <tr>\n",
       "      <th>4</th>\n",
       "      <td>YEAR</td>\n",
       "      <td>1.814101e+03</td>\n",
       "      <td>425.282621</td>\n",
       "      <td>4.265637</td>\n",
       "      <td>0.001648</td>\n",
       "    </tr>\n",
       "    <tr>\n",
       "      <th>5</th>\n",
       "      <td>const</td>\n",
       "      <td>-3.449892e+06</td>\n",
       "      <td>828242.283894</td>\n",
       "      <td>-4.165317</td>\n",
       "      <td>0.001932</td>\n",
       "    </tr>\n",
       "  </tbody>\n",
       "</table>\n",
       "</div>"
      ],
      "text/plain": [
       "  feature          coef        std err         t   P > |t|\n",
       "0     GNP -3.196131e-02       0.024203 -1.320558  0.216073\n",
       "1   UNEMP -1.972150e+00       0.386100 -5.107875  0.000459\n",
       "2   ARMED -1.019969e+00       0.190843 -5.344534  0.000326\n",
       "3     POP -7.753714e-02       0.161562 -0.479923  0.641607\n",
       "4    YEAR  1.814101e+03     425.282621  4.265637  0.001648\n",
       "5   const -3.449892e+06  828242.283894 -4.165317  0.001932"
      ]
     },
     "execution_count": 78,
     "metadata": {},
     "output_type": "execute_result"
    }
   ],
   "source": [
    "LR_details"
   ]
  },
  {
   "cell_type": "code",
   "execution_count": null,
   "metadata": {},
   "outputs": [],
   "source": []
  }
 ],
 "metadata": {
  "kernelspec": {
   "display_name": "Python 3",
   "language": "python",
   "name": "python3"
  },
  "language_info": {
   "codemirror_mode": {
    "name": "ipython",
    "version": 3
   },
   "file_extension": ".py",
   "mimetype": "text/x-python",
   "name": "python",
   "nbconvert_exporter": "python",
   "pygments_lexer": "ipython3",
   "version": "3.5.3"
  }
 },
 "nbformat": 4,
 "nbformat_minor": 2
}
